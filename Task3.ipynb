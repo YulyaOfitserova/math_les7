{
 "cells": [
  {
   "cell_type": "code",
   "execution_count": 1,
   "id": "a4200e8c",
   "metadata": {},
   "outputs": [],
   "source": [
    "import numpy as np"
   ]
  },
  {
   "cell_type": "code",
   "execution_count": 10,
   "id": "a35aaf7c",
   "metadata": {},
   "outputs": [
    {
     "name": "stdout",
     "output_type": "stream",
     "text": [
      "[[ 1  2  3 12]\n",
      " [ 4  5  6  2]\n",
      " [ 7  8  9  1]]\n"
     ]
    },
    {
     "data": {
      "text/plain": [
       "(2, 3)"
      ]
     },
     "execution_count": 10,
     "metadata": {},
     "output_type": "execute_result"
    }
   ],
   "source": [
    "#Сколько решений имеет линейная система:\n",
    "\n",
    "A = np.array([[1, 2, 3], [4, 5 , 6], [7, 8, 9]])\n",
    "B = np.array([[12, 2, 1]])\n",
    "C = np.concatenate((A, B.T), axis=1)\n",
    "print(C)\n",
    "np.linalg.matrix_rank(A, 0.0001), np.linalg.matrix_rank(C, 0.0001)\n",
    "#Так как ранг отличается, значит решений нет. Подберем правый вектор"
   ]
  },
  {
   "cell_type": "code",
   "execution_count": 13,
   "id": "8933676f",
   "metadata": {},
   "outputs": [
    {
     "name": "stdout",
     "output_type": "stream",
     "text": [
      "[[1 2 3 1]\n",
      " [4 5 6 2]\n",
      " [7 8 9 3]]\n"
     ]
    },
    {
     "data": {
      "text/plain": [
       "(2, 2)"
      ]
     },
     "execution_count": 13,
     "metadata": {},
     "output_type": "execute_result"
    }
   ],
   "source": [
    "A = np.array([[1, 2, 3], [4, 5 , 6], [7, 8, 9]])\n",
    "D = np.array([[1, 2, 3]])\n",
    "C0 = np.concatenate((A, D.T), axis=1)\n",
    "print(C0)\n",
    "np.linalg.matrix_rank(A, 0.0001), np.linalg.matrix_rank(C0, 0.0001)\n",
    "#Теперь ранг совпадает, значит есть решение! Найдем."
   ]
  },
  {
   "cell_type": "code",
   "execution_count": 12,
   "id": "100b85ac",
   "metadata": {},
   "outputs": [
    {
     "data": {
      "text/plain": [
       "array([-0.23333333,  0.46666667,  0.1       ])"
      ]
     },
     "execution_count": 12,
     "metadata": {},
     "output_type": "execute_result"
    }
   ],
   "source": [
    "# Решение:\n",
    "A = np.array([[1, 2, 3], [4, 5 , 6], [7, 8, 9]])\n",
    "D = np.array([1, 2, 3])\n",
    "np.linalg.solve(A, D)"
   ]
  },
  {
   "cell_type": "code",
   "execution_count": null,
   "id": "f478fe9f",
   "metadata": {},
   "outputs": [],
   "source": []
  }
 ],
 "metadata": {
  "kernelspec": {
   "display_name": "Python 3",
   "language": "python",
   "name": "python3"
  },
  "language_info": {
   "codemirror_mode": {
    "name": "ipython",
    "version": 3
   },
   "file_extension": ".py",
   "mimetype": "text/x-python",
   "name": "python",
   "nbconvert_exporter": "python",
   "pygments_lexer": "ipython3",
   "version": "3.8.8"
  }
 },
 "nbformat": 4,
 "nbformat_minor": 5
}
